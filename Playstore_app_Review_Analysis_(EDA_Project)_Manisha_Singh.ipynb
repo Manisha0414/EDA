{
  "nbformat": 4,
  "nbformat_minor": 0,
  "metadata": {
    "colab": {
      "private_outputs": true,
      "provenance": [],
      "collapsed_sections": [
        "vncDsAP0Gaoa",
        "FJNUwmbgGyua",
        "w6K7xa23Elo4",
        "yQaldy8SH6Dl",
        "PH-0ReGfmX4f",
        "mDgbUHAGgjLW",
        "O_i_v8NEhb9l",
        "HhfV-JJviCcP",
        "Y3lxredqlCYt",
        "3RnN4peoiCZX",
        "x71ZqKXriCWQ",
        "7hBIi_osiCS2",
        "JlHwYmJAmNHm",
        "35m5QtbWiB9F",
        "PoPl-ycgm1ru",
        "H0kj-8xxnORC",
        "nA9Y7ga8ng1Z",
        "PBTbrJXOngz2",
        "u3PMJOP6ngxN",
        "dauF4eBmngu3",
        "bKJF3rekwFvQ",
        "MSa1f5Uengrz",
        "GF8Ens_Soomf",
        "0wOQAZs5pc--",
        "K5QZ13OEpz2H",
        "lQ7QKXXCp7Bj",
        "448CDAPjqfQr",
        "KSlN3yHqYklG",
        "t6dVpIINYklI",
        "ijmpgYnKYklI",
        "-JiQyfWJYklI",
        "EM7whBJCYoAo",
        "fge-S5ZAYoAp",
        "85gYPyotYoAp",
        "RoGjAbkUYoAp",
        "4Of9eVA-YrdM",
        "iky9q4vBYrdO",
        "F6T5p64dYrdO",
        "y-Ehk30pYrdP",
        "bamQiAODYuh1",
        "QHF8YVU7Yuh3",
        "GwzvFGzlYuh3",
        "qYpmQ266Yuh3",
        "OH-pJp9IphqM",
        "bbFf2-_FphqN",
        "_ouA3fa0phqN",
        "Seke61FWphqN",
        "PIIx-8_IphqN",
        "t27r6nlMphqO",
        "r2jJGEOYphqO",
        "b0JNsNcRphqO",
        "BZR9WyysphqO",
        "jj7wYXLtphqO",
        "eZrbJ2SmphqO",
        "rFu4xreNphqO",
        "YJ55k-q6phqO",
        "gCFgpxoyphqP",
        "OVtJsKN_phqQ",
        "lssrdh5qphqQ",
        "U2RJ9gkRphqQ",
        "1M8mcRywphqQ",
        "tgIPom80phqQ",
        "JMzcOPDDphqR",
        "x-EpHcCOp1ci",
        "X_VqEhTip1ck",
        "8zGJKyg5p1ck",
        "PVzmfK_Ep1ck",
        "n3dbpmDWp1ck",
        "ylSl6qgtp1ck",
        "ZWILFDl5p1ck",
        "M7G43BXep1ck",
        "Ag9LCva-p1cl",
        "E6MkPsBcp1cl",
        "2cELzS2fp1cl",
        "3MPXvC8up1cl",
        "NC_X3p0fY2L0",
        "UV0SzAkaZNRQ",
        "YPEH6qLeZNRQ",
        "q29F0dvdveiT",
        "EXh0U9oCveiU",
        "22aHeOlLveiV",
        "JcMwzZxoAimU",
        "8G2x9gOozGDZ",
        "gCX9965dhzqZ",
        "gIfDvo9L0UH2"
      ]
    },
    "kernelspec": {
      "name": "python3",
      "display_name": "Python 3"
    },
    "language_info": {
      "name": "python"
    }
  },
  "cells": [
    {
      "cell_type": "markdown",
      "source": [
        "##### **Project Type**    - EDA\n",
        "##### **Contribution**- Individual"
      ],
      "metadata": {
        "id": "beRrZCGUAJYm"
      }
    },
    {
      "cell_type": "markdown",
      "source": [
        "# **Project Name**    -  Play Store App Review Analysis\n",
        "\n"
      ],
      "metadata": {
        "id": "vncDsAP0Gaoa"
      }
    },
    {
      "cell_type": "markdown",
      "source": [
        "# **Project Summary -**"
      ],
      "metadata": {
        "id": "FJNUwmbgGyua"
      }
    },
    {
      "cell_type": "markdown",
      "source": [
        "In todays scenario we can see that mobile apps playing an important role in any individuals life. Application distribution platform, for example, Play Store gets overwhelmed with millions of new applications being launched on the platform regularly. Lots of designers and developers work on it to make an app successful on the Play Store. In this highly competitive world, it is an immense challenge for a developer to know whether they are focusing on the right path to make their app successful on the platform.\n",
        "\n",
        "To launch themselves successfully and create an identity for themselves in this oversaturated market, they need to ensure that majority of the essential factors are incorporated while designing and developing an app that would play an important role in customer's decision-making process. However, the lack of a clear understanding of the inner working and dynamic of popular app markets impacts both the developers and users.\n",
        "\n",
        "The main objective of this exploratory data analysis project is to understand customer demands better and thus help developers to popularize their product on the Play Store.\n",
        "We develop Android apps & release on Play Store. As an Developer or say Business Perspective it’s very important to know whether users are enjoying the app or facing any issues. To know this Play Store has a Ratings & reviews section for each app released on play store. Users can submit the ratings and has a freedom to write a review for a particular app. "
      ],
      "metadata": {
        "id": "F6v_1wHtG2nS"
      }
    },
    {
      "cell_type": "markdown",
      "source": [
        "# **GitHub Link -**"
      ],
      "metadata": {
        "id": "w6K7xa23Elo4"
      }
    },
    {
      "cell_type": "markdown",
      "source": [
        "Provide your GitHub Link here."
      ],
      "metadata": {
        "id": "h1o69JH3Eqqn"
      }
    },
    {
      "cell_type": "markdown",
      "source": [
        "# **Problem Statement**\n"
      ],
      "metadata": {
        "id": "yQaldy8SH6Dl"
      }
    },
    {
      "cell_type": "markdown",
      "source": [
        "Data is taken from the Google play store dataset. Every row contains various entries regarding a certain app. We will be doing Exploratory data analysis on this data set, which is a very important step in data science cycle, as it not only helps in taking very initial business decisions but also in preparing the data for further modelling for use in machine learning algorithms.\n",
        "\n",
        "\n",
        "1. Figure out the visualization according to 'Categories vs Install', 'Categories vs Review' and 'Categories vs Price'.\n",
        "2. What are the top categories on Play Store?\n",
        "3. Are majority of the apps Paid or Free?\n",
        "4. How importance is the rating of the application?\n",
        "5. App with highest number of reviews?\n",
        "6. Which category has the most no. of installations?\n",
        "7. How does the count of apps varies by Genres?\n",
        "8. How does the last update has an effect on the rating?\n",
        "9. How are ratings affected when the app is a paid one?\n",
        "10. How are reviews and ratings co-related?\n",
        "11. Lets us discuss the sentiment subjectivity.\n",
        "12. Is subjectivity and polarity proportional to each other?\n",
        "13. What is the percentage of review sentiments?\n",
        "14. What is the average rating?\n",
        "15. Rating of Paid app?\n",
        "16. Rating of Free app?"
      ],
      "metadata": {
        "id": "DpeJGUA3kjGy"
      }
    },
    {
      "cell_type": "markdown",
      "source": [
        "#### **Define Your Business Objective?** "
      ],
      "metadata": {
        "id": "PH-0ReGfmX4f"
      }
    },
    {
      "cell_type": "markdown",
      "source": [
        "The main objective of this exploratory data analysis project is to understand customer demands better and thus help developers to popularize their product on the Play Store.While analysing will be to structure the data, clean it and present certain trends that we observe that can help us draw very preliminary conclusions about the probability of success of a newly launched app.  Answer Here."
      ],
      "metadata": {
        "id": "PhDvGCAqmjP1"
      }
    },
    {
      "cell_type": "markdown",
      "source": [
        "# **General Guidelines** : -  "
      ],
      "metadata": {
        "id": "mDgbUHAGgjLW"
      }
    },
    {
      "cell_type": "markdown",
      "source": [
        "1.   Well-structured, formatted, and commented code is required. \n",
        "2.   Exception Handling, Production Grade Code & Deployment Ready Code will be a plus. Those students will be awarded some additional credits. \n",
        "     \n",
        "     The additional credits will have advantages over other students during Star Student selection.\n",
        "       \n",
        "             [ Note: - Deployment Ready Code is defined as, the whole .ipynb notebook should be executable in one go\n",
        "                       without a single error logged. ]\n",
        "\n",
        "3.   Each and every logic should have proper comments.\n",
        "4. You may add as many number of charts you want. Make Sure for each and every chart the following format should be answered.\n",
        "        \n",
        "\n",
        "```\n",
        "# Chart visualization code\n",
        "```\n",
        "            \n",
        "\n",
        "*   Why did you pick the specific chart?\n",
        "*   What is/are the insight(s) found from the chart?\n",
        "* Will the gained insights help creating a positive business impact? \n",
        "Are there any insights that lead to negative growth? Justify with specific reason.\n",
        "\n",
        "5. You have to create at least 20 logical & meaningful charts having important insights.\n",
        "\n",
        "\n",
        "[ Hints : - Do the Vizualization in  a structured way while following \"UBM\" Rule. \n",
        "\n",
        "U - Univariate Analysis,\n",
        "\n",
        "B - Bivariate Analysis (Numerical - Categorical, Numerical - Numerical, Categorical - Categorical)\n",
        "\n",
        "M - Multivariate Analysis\n",
        " ]\n",
        "\n",
        "\n",
        "\n"
      ],
      "metadata": {
        "id": "ZrxVaUj-hHfC"
      }
    },
    {
      "cell_type": "markdown",
      "source": [
        "# ***Let's Begin !***"
      ],
      "metadata": {
        "id": "O_i_v8NEhb9l"
      }
    },
    {
      "cell_type": "markdown",
      "source": [
        "## ***1. Know Your Data***"
      ],
      "metadata": {
        "id": "HhfV-JJviCcP"
      }
    },
    {
      "cell_type": "markdown",
      "source": [
        "### Import Libraries"
      ],
      "metadata": {
        "id": "Y3lxredqlCYt"
      }
    },
    {
      "cell_type": "code",
      "source": [
        "# Import Libraries\n",
        "import numpy as np\n",
        "import pandas as pd\n",
        "import matplotlib.pyplot as plt\n",
        "import seaborn as sns"
      ],
      "metadata": {
        "id": "M8Vqi-pPk-HR"
      },
      "execution_count": null,
      "outputs": []
    },
    {
      "cell_type": "markdown",
      "source": [
        "### Dataset Loading"
      ],
      "metadata": {
        "id": "3RnN4peoiCZX"
      }
    },
    {
      "cell_type": "code",
      "source": [
        "# Load Dataset\n",
        "from google.colab import drive\n",
        "drive.mount('/content/drive')"
      ],
      "metadata": {
        "id": "4CkvbW_SlZ_R"
      },
      "execution_count": null,
      "outputs": []
    },
    {
      "cell_type": "code",
      "source": [
        "Playstore= pd.read_csv(\"/content/drive/MyDrive/Play Store Data.csv\")\n",
        "user=pd.read_csv(\"/content/drive/MyDrive/User Reviews.csv\")"
      ],
      "metadata": {
        "id": "GcjzBcmUE0d_"
      },
      "execution_count": null,
      "outputs": []
    },
    {
      "cell_type": "markdown",
      "source": [
        "### Dataset First View"
      ],
      "metadata": {
        "id": "x71ZqKXriCWQ"
      }
    },
    {
      "cell_type": "code",
      "source": [
        "# Dataset First Look\n",
        "#lets print first five rows of information of the playstore data frame\n",
        "Playstore.head()"
      ],
      "metadata": {
        "id": "LWNFOSvLl09H"
      },
      "execution_count": null,
      "outputs": []
    },
    {
      "cell_type": "code",
      "source": [
        "#lets print last five rows of information of the playstore data frame\n",
        "Playstore.tail()"
      ],
      "metadata": {
        "id": "Z9Yecv34QIfV"
      },
      "execution_count": null,
      "outputs": []
    },
    {
      "cell_type": "markdown",
      "source": [
        "### Dataset Rows & Columns count"
      ],
      "metadata": {
        "id": "7hBIi_osiCS2"
      }
    },
    {
      "cell_type": "code",
      "source": [
        "# Dataset Rows & Columns count\n",
        "Playstore.shape"
      ],
      "metadata": {
        "id": "Kllu7SJgmLij"
      },
      "execution_count": null,
      "outputs": []
    },
    {
      "cell_type": "markdown",
      "source": [
        "### Dataset Information"
      ],
      "metadata": {
        "id": "JlHwYmJAmNHm"
      }
    },
    {
      "cell_type": "code",
      "source": [
        "# Dataset Info\n",
        "Playstore.info()"
      ],
      "metadata": {
        "id": "e9hRXRi6meOf"
      },
      "execution_count": null,
      "outputs": []
    },
    {
      "cell_type": "markdown",
      "source": [
        "#### Duplicate Values"
      ],
      "metadata": {
        "id": "35m5QtbWiB9F"
      }
    },
    {
      "cell_type": "code",
      "source": [
        "# Dataset Duplicate Value Count\n",
        "len(Playstore[Playstore.duplicated()])"
      ],
      "metadata": {
        "id": "1sLdpKYkmox0"
      },
      "execution_count": null,
      "outputs": []
    },
    {
      "cell_type": "code",
      "source": [
        "#its better to delete all the dulicate values and keeping the dataset clean\n",
        "Playstore.drop_duplicates(subset = 'App', keep = 'first' ,inplace = True)"
      ],
      "metadata": {
        "id": "4FKh1u5vknIa"
      },
      "execution_count": null,
      "outputs": []
    },
    {
      "cell_type": "markdown",
      "source": [
        "#### Missing Values/Null Values"
      ],
      "metadata": {
        "id": "PoPl-ycgm1ru"
      }
    },
    {
      "cell_type": "code",
      "source": [
        "# Missing Values/Null Values Count\n",
        "Playstore.isnull().sum()\n"
      ],
      "metadata": {
        "id": "GgHWkxvamxVg"
      },
      "execution_count": null,
      "outputs": []
    },
    {
      "cell_type": "code",
      "source": [
        "# Visualizing the missing values\n",
        "sns.heatmap(Playstore.isnull())"
      ],
      "metadata": {
        "id": "3q5wnI3om9sJ"
      },
      "execution_count": null,
      "outputs": []
    },
    {
      "cell_type": "markdown",
      "source": [
        "### What did you know about your dataset?"
      ],
      "metadata": {
        "id": "H0kj-8xxnORC"
      }
    },
    {
      "cell_type": "markdown",
      "source": [
        "The given dataset is from play store app. This dataset consists of 9660 rows and 13 columns of App detail its rating,reviews,size and how many user installed it,the app is free or paid and its versions.There is no missing and duplicate values in the dataset."
      ],
      "metadata": {
        "id": "gfoNAAC-nUe_"
      }
    },
    {
      "cell_type": "markdown",
      "source": [
        "## ***2. Understanding Your Variables***"
      ],
      "metadata": {
        "id": "nA9Y7ga8ng1Z"
      }
    },
    {
      "cell_type": "code",
      "source": [
        "# Dataset Column\n",
        "Playstore.columns"
      ],
      "metadata": {
        "id": "j7xfkqrt5Ag5"
      },
      "execution_count": null,
      "outputs": []
    },
    {
      "cell_type": "code",
      "source": [
        "# Dataset Describe\n",
        "Playstore.describe()"
      ],
      "metadata": {
        "id": "DnOaZdaE5Q5t"
      },
      "execution_count": null,
      "outputs": []
    },
    {
      "cell_type": "markdown",
      "source": [
        "### Variables Description "
      ],
      "metadata": {
        "id": "PBTbrJXOngz2"
      }
    },
    {
      "cell_type": "markdown",
      "source": [
        "Playstore dataframe has 10841 rows and 13 columns. The 13 columns are identified as below:\n",
        "\n",
        "1. App - It tells us about the name of the application.\n",
        "2. Category - It tells us about the category to which an application belongs.\n",
        "3. Rating - It tells us about the ratings given by the users for a specific application.\n",
        "4. Reviews - It tells us about the total number of users who have given a review for the application.\n",
        "5. Size - It tells us about the size being occupied the application on the mobile phone.\n",
        "6. Installs - It tells us about the total number of installs/downloads for an application.\n",
        "7. Type - It tells us whether the application is free or a paid one.\n",
        "8. Price - It tells us about the price of the application.\n",
        "9. Content_Rating - It tells us about the target audience for the application.\n",
        "10. Genres - It tells us about the various other categories to which an application can belong.\n",
        "11. Last_Updated - It tells us about the when the application was updated.\n",
        "12. Current_Ver - It tells us about the current version of the application.\n",
        "13.Android_Ver - It tells us about the android version which can support the application on its platform."
      ],
      "metadata": {
        "id": "aJV4KIxSnxay"
      }
    },
    {
      "cell_type": "markdown",
      "source": [
        "### Check Unique Values for each variable."
      ],
      "metadata": {
        "id": "u3PMJOP6ngxN"
      }
    },
    {
      "cell_type": "code",
      "source": [
        "# Check Unique Values for each variable.\n",
        "for i in Playstore.columns.tolist():\n",
        "  print(\"No. of unique values in \",i,\"is\",Playstore[i].nunique(),\".\")"
      ],
      "metadata": {
        "id": "zms12Yq5n-jE"
      },
      "execution_count": null,
      "outputs": []
    },
    {
      "cell_type": "markdown",
      "source": [
        "## 3. ***Data Wrangling***"
      ],
      "metadata": {
        "id": "dauF4eBmngu3"
      }
    },
    {
      "cell_type": "markdown",
      "source": [
        "### Data Wrangling Code"
      ],
      "metadata": {
        "id": "bKJF3rekwFvQ"
      }
    },
    {
      "cell_type": "markdown",
      "source": [
        "**Cleaning of the data**"
      ],
      "metadata": {
        "id": "v123K1l5o51A"
      }
    },
    {
      "cell_type": "markdown",
      "source": [
        "The three features that we will be working with most frequently henceforth are Installs, Size, and Price. A careful glance of the dataset reveals that some of these columns mandate data cleaning in order to be consumed by code we'll write later. Specifically, the presence of special characters (, $ +) and letters (M k) in the Installs, Size, and Price columns make their conversion to a numerical data type difficult. Let's clean by removing these and converting each column to a numeric type.\n",
        "\n",
        "Removing the Nan value and Duplicate present in the data set"
      ],
      "metadata": {
        "id": "kQaYh7ucpBcQ"
      }
    },
    {
      "cell_type": "markdown",
      "source": [
        "Handling the NaN values in the Play store **data**"
      ],
      "metadata": {
        "id": "6P43qPM3qoh0"
      }
    },
    {
      "cell_type": "code",
      "source": [
        "# Write your code to make your dataset analysis ready.\n",
        "# This user define function will give the type,count of null and non null values as well as null ratio\n",
        "def playstoreinfo():\n",
        "  temp=pd.DataFrame(index=Playstore.columns)\n",
        "  temp[\"datatype\"]=Playstore.dtypes\n",
        "  temp[\"not null values\"]=Playstore.count()\n",
        "  temp[\"null value\"]=Playstore.isnull().sum()\n",
        "  temp[\"% of the null value\"]=Playstore.isnull().mean()\n",
        "  temp[\"unique count\"]=Playstore.nunique()\n",
        "  return temp\n",
        "playstoreinfo()"
      ],
      "metadata": {
        "id": "wk-9a2fpoLcV"
      },
      "execution_count": null,
      "outputs": []
    },
    {
      "cell_type": "code",
      "source": [
        "Playstore.isnull().sum()"
      ],
      "metadata": {
        "id": "32ZQ0S_qHGhv"
      },
      "execution_count": null,
      "outputs": []
    },
    {
      "cell_type": "markdown",
      "source": [
        "### What all manipulations have you done and insights you found?"
      ],
      "metadata": {
        "id": "MSa1f5Uengrz"
      }
    },
    {
      "cell_type": "markdown",
      "source": [
        "The number of null values are:\n",
        "\n",
        "Rating has 1463 null values which contributes 13.60% of the data. Type has 1 null value which contributes 0.01% of the data. Content_Rating has 1 null value which contributes 0.01% of the data. Current_Ver has 8 null values which contributes 0.07% of the data. Android_Ver has 3 null values which contributes 0.03% of the data.\n",
        "\n",
        "Lets first deal with the columns which contains lesser number of NaN values. By going through the NaN values, we must come up with a way to replace them with non NaN values or we need to come up with a reason for having NaN."
      ],
      "metadata": {
        "id": "LbyXE7I1olp8"
      }
    },
    {
      "cell_type": "code",
      "source": [
        "# The rows containing NaN values in the Android Ver column,current version, and type column\n",
        "print(Playstore['Android Ver'].mode())\n",
        "print(Playstore['Current Ver'].mode())\n",
        "print(Playstore['Type'].mode())"
      ],
      "metadata": {
        "id": "fnbpIky3rnVK"
      },
      "execution_count": null,
      "outputs": []
    },
    {
      "cell_type": "code",
      "source": [
        "Playstore['Android Ver'].fillna(str(Playstore['Android Ver'].mode().values[0]),inplace=True)"
      ],
      "metadata": {
        "id": "wXHBKyi3r8zw"
      },
      "execution_count": null,
      "outputs": []
    },
    {
      "cell_type": "code",
      "source": [
        "Playstore['Current Ver'].fillna(str(Playstore['Current Ver'].mode().values[0]),inplace=True)"
      ],
      "metadata": {
        "id": "9kxNP11rIWQZ"
      },
      "execution_count": null,
      "outputs": []
    },
    {
      "cell_type": "code",
      "source": [
        "Playstore['Type'].fillna(str(Playstore['Type'].mode().values[0]),inplace=True)"
      ],
      "metadata": {
        "id": "OWfuo5T4IWe9"
      },
      "execution_count": null,
      "outputs": []
    },
    {
      "cell_type": "code",
      "source": [
        "Playstore.isnull().sum()"
      ],
      "metadata": {
        "id": "0_IgK19SIhQy"
      },
      "execution_count": null,
      "outputs": []
    },
    {
      "cell_type": "markdown",
      "source": [
        "We were successfully able to handle the NaN values in the **Android Ver**,Current Ver,Type column"
      ],
      "metadata": {
        "id": "xg4H5J2Tsx2t"
      }
    },
    {
      "cell_type": "markdown",
      "source": [
        "## **Rating: This column contains 1463 NaN values.**"
      ],
      "metadata": {
        "id": "d9LCl31jIxxY"
      }
    },
    {
      "cell_type": "code",
      "source": [
        "# The rows containing NaN values in the Rating column\n",
        "Playstore[Playstore['Rating'].isnull()]"
      ],
      "metadata": {
        "id": "L7t2GcoLIykI"
      },
      "execution_count": null,
      "outputs": []
    },
    {
      "cell_type": "markdown",
      "source": [
        "Also, we know that the rating of any app in the play store will be in between 1 and 5. Lets check whether there are any ratings out of this range."
      ],
      "metadata": {
        "id": "DdmBfWlAJBJi"
      }
    },
    {
      "cell_type": "code",
      "source": [
        "Playstore[(Playstore['Rating'] <1) | (Playstore['Rating']>5)]"
      ],
      "metadata": {
        "id": "2mMvo7dSIyzN"
      },
      "execution_count": null,
      "outputs": []
    },
    {
      "cell_type": "markdown",
      "source": [
        "Some of the app having greater then 5 rating so its a unwanted data or we can say outlier"
      ],
      "metadata": {
        "id": "RFClyOf-QZ1S"
      }
    },
    {
      "cell_type": "code",
      "source": [
        "#for removing outlier row \n",
        "Playstore.drop([10472],inplace=True)"
      ],
      "metadata": {
        "id": "CtBzclHrQo4X"
      },
      "execution_count": null,
      "outputs": []
    },
    {
      "cell_type": "code",
      "source": [
        "#lets check unwanted row is deleted or not\n",
        "Playstore[10470:10475]"
      ],
      "metadata": {
        "id": "yCavgGS9RGsj"
      },
      "execution_count": null,
      "outputs": []
    },
    {
      "cell_type": "markdown",
      "source": [
        "output show that 10472 row no. is deleted."
      ],
      "metadata": {
        "id": "eQ3tGqr9RW3c"
      }
    },
    {
      "cell_type": "markdown",
      "source": [
        "The Rating column contains 1463 NaN values which accounts to apprximately 13.5% of the rows in the entire dataset. It is not practical to drop these rows because by doing so, we will loose a large amount of data, which may impact the final quality of the analysis. The NaN values in this case can be imputed by the aggregate (mean or median) of the remaining values in the Rating column."
      ],
      "metadata": {
        "id": "v9meeUzXLASs"
      }
    },
    {
      "cell_type": "code",
      "source": [
        "# Finding mean and median in the Rating column excluding the NaN values.\n",
        "\n",
        "mean_rating = round(Playstore[~Playstore['Rating'].isnull()]['Rating'].mean(),4)\n",
        "\n",
        "median_rating = Playstore[~Playstore['Rating'].isnull()]['Rating'].median()\n",
        "\n",
        "[mean_rating , median_rating]"
      ],
      "metadata": {
        "id": "zeCD61dxIzHh"
      },
      "execution_count": null,
      "outputs": []
    },
    {
      "cell_type": "code",
      "source": [
        "#Visualization of distribution of rating using displot and detecting the outliers through boxplot.\n",
        "\n",
        "\n",
        "fig, ax = plt.subplots(2,1, figsize=(12,7))\n",
        "sns.distplot(Playstore['Rating'],color='firebrick',ax=ax[0])\n",
        "Playstore.boxplot();"
      ],
      "metadata": {
        "id": "HVQmRRgaLTpY"
      },
      "execution_count": null,
      "outputs": []
    },
    {
      "cell_type": "markdown",
      "source": [
        "The mean of the average ratings (excluding the NaN values) comes to be 4.2.\n",
        "\n",
        "The median of the entries (excluding the NaN values) in the 'Rating' column comes to be 4.3. From this we can say that 50% of the apps have an average rating of above 4.3, and the rest below 4.3.\n",
        "\n",
        "From the distplot visualizations, it is clear that the ratings are left skewed.\n",
        "\n",
        "We know that if the variable is skewed, the mean is biased by the values at the far end of the distribution. Therefore, the median is a better representation of the majority of the values in the variable.\n",
        "\n",
        "Hence we will impute the NaN values in the Rating column with its median."
      ],
      "metadata": {
        "id": "qBMILvvLMUL5"
      }
    },
    {
      "cell_type": "code",
      "source": [
        "# Replacing the NaN values in the 'Rating' colunm with its median value\n",
        "Playstore['Rating'].fillna(value=median_rating,inplace=True)"
      ],
      "metadata": {
        "id": "aKIJCcNMMZBX"
      },
      "execution_count": null,
      "outputs": []
    },
    {
      "cell_type": "code",
      "source": [
        "Playstore.shape"
      ],
      "metadata": {
        "id": "YJ9GcU5KjgHA"
      },
      "execution_count": null,
      "outputs": []
    },
    {
      "cell_type": "markdown",
      "source": [
        "Converting the datatype of values in the Reviews column from string to int.**"
      ],
      "metadata": {
        "id": "dphtGcv0MxGA"
      }
    },
    {
      "cell_type": "code",
      "source": [
        "# Converting the datatype of the values in the reviews column from string to int\n",
        "Playstore['Reviews'] = Playstore['Reviews'].astype(int)\n",
        "Playstore.head()"
      ],
      "metadata": {
        "id": "qgPBkVUxM8BJ"
      },
      "execution_count": null,
      "outputs": []
    },
    {
      "cell_type": "code",
      "source": [
        "Playstore.describe()"
      ],
      "metadata": {
        "id": "g0ZAaQDTNHG-"
      },
      "execution_count": null,
      "outputs": []
    },
    {
      "cell_type": "markdown",
      "source": [
        "We have successfully converted the datatype of the values in the Reviews column from string to int.\n",
        "\n",
        "Now that we have handled the errors and NaN values in the playstoredata.csv file, lets do the same for the userreviews.csv file."
      ],
      "metadata": {
        "id": "Or-XZqcdNLh5"
      }
    },
    {
      "cell_type": "code",
      "source": [
        "# Pandas to_datetime() function applied to the values in the last updated column helps to convert string Date time into Python Date time object.\n",
        "Playstore[\"Last Updated\"] = pd.to_datetime(Playstore['Last Updated'])"
      ],
      "metadata": {
        "id": "NqYMut9BZZmM"
      },
      "execution_count": null,
      "outputs": []
    },
    {
      "cell_type": "code",
      "source": [
        "#Changing the datatype of the Price column from string to float.\n",
        "Playstore['Price']=Playstore['Price'].apply((lambda x:str(x).replace('$',' ')if '$'in str(x) else str(x)))\n",
        "Playstore['Price']=Playstore['Price'].apply(lambda x:float(x))"
      ],
      "metadata": {
        "id": "DSYTisV3ZuqX"
      },
      "execution_count": null,
      "outputs": []
    },
    {
      "cell_type": "markdown",
      "source": [
        "1. This line is modifying the 'Price' column of the 'Playstore' DataFrame. It uses the `apply()` function to apply a lambda function to each value in the 'Price' column. The lambda function checks if the value contains a dollar sign ('$'). If it does, it replaces the dollar sign with a space using the `replace()` method, converting the value to a string. If the value does not contain a dollar sign, it leaves it as it is. Finally, the modified or unchanged value is assigned back to the 'Price' column.\n",
        "2. This line further modifies the 'Price' column of the 'Playstore' DataFrame. It uses another lambda function to convert each value in the 'Price' column to a floating-point number. It achieves this by calling the `float()` function on each value. The modified values are assigned back to the 'Price' column.\n",
        "We have successfully converted the datatype of values in the Price column from string to float."
      ],
      "metadata": {
        "id": "gI3DJNmfbPEt"
      }
    },
    {
      "cell_type": "markdown",
      "source": [
        "## **Converting the values in the Installs column from string datatype to integer datatype.**"
      ],
      "metadata": {
        "id": "x2y8wf3CbVbC"
      }
    },
    {
      "cell_type": "code",
      "source": [
        "# Checking the contents of the 'Installs' column\n",
        "Playstore['Installs'].value_counts()"
      ],
      "metadata": {
        "id": "ZJrdc2lFbZS3"
      },
      "execution_count": null,
      "outputs": []
    },
    {
      "cell_type": "markdown",
      "source": [
        "To convert all the values in the Installs column from string datatype to integer datatype, we must first replace the '+' symbol from all the entries if present and then we can change its datatype."
      ],
      "metadata": {
        "id": "IOLHzyUBbjdk"
      }
    },
    {
      "cell_type": "code",
      "source": [
        "#Changing the datatype of the Installs column from string to float.\n",
        "Playstore['Installs']=Playstore['Installs'].apply((lambda x:str(x).replace('+',' ')if '+'in str(x) else str(x)))"
      ],
      "metadata": {
        "id": "9N_41aOtbljH"
      },
      "execution_count": null,
      "outputs": []
    },
    {
      "cell_type": "code",
      "source": [
        "Playstore['Installs']=Playstore['Installs'].apply((lambda x:str(x).replace(',','')if ','in str(x) else str(x)))"
      ],
      "metadata": {
        "id": "gWSegV-rkPZ0"
      },
      "execution_count": null,
      "outputs": []
    },
    {
      "cell_type": "code",
      "source": [
        "Playstore['Installs']=Playstore['Installs'].apply(lambda x:float(x))"
      ],
      "metadata": {
        "id": "owZUjyL0kRZD"
      },
      "execution_count": null,
      "outputs": []
    },
    {
      "cell_type": "markdown",
      "source": [
        "This line is modifying the 'Installs' column of the 'Playstore' DataFrame. It uses the apply() function to apply a lambda function to each value in the 'Installs' column. The lambda function checks if the value contains a plus sign ('+'). If it does, it replaces the dollar sign with a space using the replace() method, converting the value to a string. If the value does not contain a plus sign, it leaves it as it is. Finally, the modified or unchanged value is assigned back to the 'Price' column.\n",
        "This line further modifies the 'Install' column of the 'Playstore' DataFrame. It uses another lambda function to convert each value in the 'Install' column to a floating-point number. It achieves this by calling the float() function on each value. The modified values are assigned back to the 'Installs' column. We have successfully converted the datatype of values in the Installs column from string to float."
      ],
      "metadata": {
        "id": "jW3f73B9Meaa"
      }
    },
    {
      "cell_type": "markdown",
      "source": [
        "## **Converting the values in the Size column to a same unit of measure(MB)**"
      ],
      "metadata": {
        "id": "MsxPtILScEhu"
      }
    },
    {
      "cell_type": "code",
      "source": [
        "Playstore['Size'].value_counts()"
      ],
      "metadata": {
        "id": "j9tPSrL6cDf3"
      },
      "execution_count": null,
      "outputs": []
    },
    {
      "cell_type": "markdown",
      "source": [
        "We can see that the values in the Size column contains data with different units. 'M' stands for MB and 'k' stands for KB. To easily analyse this column, it is necessary to convert all the values to a single unit. In this case, we will convert all the units to MB.\n",
        "\n",
        "We know that 1MB = 1024KB, to convert KB to MB, we must divide all the values which are in KB by 1024."
      ],
      "metadata": {
        "id": "HDoxWN3LcPJ3"
      }
    },
    {
      "cell_type": "code",
      "source": [
        "# Defining a function to convert all the entries in KB to MB and then converting them to float datatype.\n",
        "\n",
        "def convert_kb_to_mb(val):\n",
        "  '''\n",
        "  This function converts all the valid entries in KB to MB and returns the result in float datatype.\n",
        "  '''\n",
        "  try:\n",
        "    if 'M' in val:\n",
        "      return float(val[:-1])\n",
        "    elif 'k' in val:\n",
        "      return round(float(val[:-1])/1024, 4)\n",
        "    else:\n",
        "      return val\n",
        "  except:\n",
        "    return val"
      ],
      "metadata": {
        "id": "OkC-hA4TcQ4f"
      },
      "execution_count": null,
      "outputs": []
    },
    {
      "cell_type": "markdown",
      "source": [
        "Applying the kb_to_mb function to convert the values in the Size column to a single unit of measure (MB) and the datatype from string to float."
      ],
      "metadata": {
        "id": "MU6JKyYicXyt"
      }
    },
    {
      "cell_type": "code",
      "source": [
        "# The kb_to_mb funtion applied to the size column\n",
        "\n",
        "Playstore['Size'] = Playstore['Size'].apply(lambda x: convert_kb_to_mb(x))\n",
        "Playstore.head()"
      ],
      "metadata": {
        "id": "Dodw8g0ncZw9"
      },
      "execution_count": null,
      "outputs": []
    },
    {
      "cell_type": "code",
      "source": [
        "Playstore['Size'] = Playstore['Size'].apply(lambda x: str(x).replace('Varies with device', 'NaN') if 'Varies with device' in str(x) else x)\n",
        "Playstore['Size'] = Playstore['Size'].apply(lambda x: float(x))"
      ],
      "metadata": {
        "id": "-ypxRpu9dDip"
      },
      "execution_count": null,
      "outputs": []
    },
    {
      "cell_type": "markdown",
      "source": [
        "A vast majority of the entries in the Size column contain the entry Varies with device. Since this entry cannot be used for analysis lets see if it can be imputed with the mean or median value of the entries in this column."
      ],
      "metadata": {
        "id": "iu3Nf_IYdNLs"
      }
    },
    {
      "cell_type": "code",
      "source": [
        "# Finding max, min, mean, and median in the Size column excluding the 'Varies with device' values.\n",
        "\n",
        "max_size = Playstore[Playstore['Size'] != 'Varies with device']['Size'].max()\n",
        "\n",
        "min_size = Playstore[Playstore['Size'] != 'Varies with device']['Size'].min()\n",
        "\n",
        "mean_size = round(Playstore[Playstore['Size'] != 'Varies with device']['Size'].mean(),4)\n",
        "\n",
        "median_size = Playstore[Playstore['Size'] != 'Varies with device']['Size'].median()\n",
        "\n",
        "[max_size, min_size, mean_size, median_size]"
      ],
      "metadata": {
        "id": "xGP5jS7JdQWE"
      },
      "execution_count": null,
      "outputs": []
    },
    {
      "cell_type": "code",
      "source": [
        "Playstore.describe()"
      ],
      "metadata": {
        "id": "gCj4TwmFNva2"
      },
      "execution_count": null,
      "outputs": []
    },
    {
      "cell_type": "markdown",
      "source": [
        "### **Let us see what insight we can have on the basis of Size of an app**"
      ],
      "metadata": {
        "id": "QX_Gdiz1Ofim"
      }
    },
    {
      "cell_type": "markdown",
      "source": [
        "## **Size vs Rating**"
      ],
      "metadata": {
        "id": "kh2Z5qA7OqDz"
      }
    },
    {
      "cell_type": "code",
      "source": [
        "sns.set_style(\"whitegrid\", {'axes.grid' : False})\n",
        "sns.lmplot(y='Rating',x='Size',data=Playstore,col=\"Category\", hue=\"Category\",col_wrap=4,line_kws={'color': 'red'})"
      ],
      "metadata": {
        "id": "pYdErDbsOxJ9"
      },
      "execution_count": null,
      "outputs": []
    },
    {
      "cell_type": "markdown",
      "source": [
        "### **Exploring User_review dataframe**"
      ],
      "metadata": {
        "id": "9wVpv9Y5TlZC"
      }
    },
    {
      "cell_type": "code",
      "source": [
        "# Checking the top 5 rows of the data\n",
        "\n",
        "user.head()"
      ],
      "metadata": {
        "id": "EnvmPXRlTryK"
      },
      "execution_count": null,
      "outputs": []
    },
    {
      "cell_type": "code",
      "source": [
        "# Checking the last 5 rows of the data\n",
        "\n",
        "user.tail()"
      ],
      "metadata": {
        "id": "3gahTDBdTsIA"
      },
      "execution_count": null,
      "outputs": []
    },
    {
      "cell_type": "code",
      "source": [
        "# # Dataset Rows & Columns \n",
        "user.shape\n"
      ],
      "metadata": {
        "id": "XMKx-SNSUChd"
      },
      "execution_count": null,
      "outputs": []
    },
    {
      "cell_type": "code",
      "source": [
        "# Dataset Columns\n",
        "user.columns"
      ],
      "metadata": {
        "id": "fPndAKd4UjJO"
      },
      "execution_count": null,
      "outputs": []
    },
    {
      "cell_type": "code",
      "source": [
        "#count number of unique apps\n",
        "Playstore['App'].value_counts()"
      ],
      "metadata": {
        "id": "pGoP6qcFUzfE"
      },
      "execution_count": null,
      "outputs": []
    },
    {
      "cell_type": "markdown",
      "source": [
        "## ***4. Data Vizualization, Storytelling & Experimenting with charts : Understand the relationships between variables***"
      ],
      "metadata": {
        "id": "GF8Ens_Soomf"
      }
    },
    {
      "cell_type": "markdown",
      "source": [
        "#### Chart - 1"
      ],
      "metadata": {
        "id": "0wOQAZs5pc--"
      }
    },
    {
      "cell_type": "code",
      "source": [
        "# Chart - 1 visualization code\n",
        "grp=Playstore.groupby('Category')\n",
        "x=grp['Installs'].agg(np.mean)\n",
        "y=grp['Price'].agg(np.mean)\n",
        "z=grp['Reviews'].agg(np.mean)\n",
        "print(x)\n",
        "print(y)\n",
        "print(z)"
      ],
      "metadata": {
        "id": "7v_ESjsspbW7"
      },
      "execution_count": null,
      "outputs": []
    },
    {
      "cell_type": "code",
      "source": [
        "# Visualization part 1 Category Vs Installs\n",
        "plt.figure(figsize=(16,5))\n",
        "plt.plot(x,'ro',color='b')\n",
        "plt.xticks(rotation=90)\n",
        "plt.title('Category Vs Installs')\n",
        "plt.xlabel('Categories ------->')\n",
        "plt.ylabel('Installs---------->')\n",
        "plt.show()"
      ],
      "metadata": {
        "id": "WKeKmdpB773J"
      },
      "execution_count": null,
      "outputs": []
    },
    {
      "cell_type": "code",
      "source": [
        "# Visualization part 2 Category Vs Pricing\n",
        "plt.figure(figsize=(16,5))\n",
        "plt.plot(y,'r--',color='r')\n",
        "plt.xticks(rotation=90)\n",
        "plt.title('Category Vs Pricing')\n",
        "plt.xlabel('Categories ------->')\n",
        "plt.ylabel('Prices---------->')\n",
        "plt.show()"
      ],
      "metadata": {
        "id": "V13jto4P8qGq"
      },
      "execution_count": null,
      "outputs": []
    },
    {
      "cell_type": "code",
      "source": [
        "# Visualization part 3 Category Vs Reviews\n",
        "plt.figure(figsize=(16,5))\n",
        "plt.plot(z,'g^',color='g')\n",
        "plt.xticks(rotation=90)\n",
        "plt.title('Category Vs Reviews')\n",
        "plt.xlabel(' Categories------->')\n",
        "plt.ylabel('Reviewing--------->')\n",
        "plt.show()"
      ],
      "metadata": {
        "id": "xNtkN5px8848"
      },
      "execution_count": null,
      "outputs": []
    },
    {
      "cell_type": "markdown",
      "source": [
        "##### 1. Why did you pick the specific chart?"
      ],
      "metadata": {
        "id": "K5QZ13OEpz2H"
      }
    },
    {
      "cell_type": "markdown",
      "source": [
        "It visualize to creates a figure, creates a plotting area in a figure.For every x, y pair of arguments, there is an optional third argument which is the format string that indicates the color and line type of the plot. The letters and symbols of the format string are from MATLAB, and you concatenate a color string with a line style string. "
      ],
      "metadata": {
        "id": "XESiWehPqBRc"
      }
    },
    {
      "cell_type": "markdown",
      "source": [
        "##### 2. What is/are the insight(s) found from the chart?"
      ],
      "metadata": {
        "id": "lQ7QKXXCp7Bj"
      }
    },
    {
      "cell_type": "markdown",
      "source": [
        "1. Popular Categories: By analyzing the distribution of app categories, businesses can identify which types of apps are most popular among users. This can help them understand market trends and develop apps that cater to the users' preferences.\n",
        "\n",
        "2. Install Numbers: Examining the number of installs for different apps can provide insights into their popularity and demand. This information can help businesses gauge the potential reach and competition within specific categories.\n",
        "\n",
        "3. Reviews: Analyzing user reviews can provide valuable feedback on app performance, features, and user satisfaction. Positive reviews can indicate what users appreciate about an app, while negative reviews can highlight areas for improvement. This feedback can be used to enhance existing apps or develop new ones with features that address users' concerns.\n",
        "\n",
        "4. Pricing: Evaluating the pricing of apps and their corresponding user reviews can help determine the correlation between pricing and perceived value. This analysis can assist businesses in setting competitive prices for their apps and optimizing their revenue models."
      ],
      "metadata": {
        "id": "C_j1G7yiqdRP"
      }
    },
    {
      "cell_type": "markdown",
      "source": [
        "##### 3. Will the gained insights help creating a positive business impact? \n",
        "Are there any insights that lead to negative growth? Justify with specific reason."
      ],
      "metadata": {
        "id": "448CDAPjqfQr"
      }
    },
    {
      "cell_type": "markdown",
      "source": [
        "Positive Business Impact:\n",
        "The insights gained from analyzing these factors can have several positive business impacts:\n",
        "\n",
        "1. Market Opportunities: Understanding the popular categories and user preferences can help businesses identify untapped market opportunities and develop apps that cater to those needs. This can lead to increased downloads, user engagement, and revenue.\n",
        "\n",
        "2. User Satisfaction: By analyzing reviews, businesses can gain insights into what users like or dislike about their apps. Addressing user concerns and enhancing app features based on feedback can result in improved user satisfaction, higher ratings, and increased positive reviews.\n",
        "\n",
        "3. Pricing Optimization: Analyzing pricing trends and correlating them with user reviews can help businesses optimize their pricing strategies. Setting competitive prices that align with user perceptions of value can attract more users and drive higher revenue.\n",
        "\n",
        "Negative Growth:\n",
        "While most insights derived from analyzing app categories, installs, reviews, and pricing tend to focus on positive business impacts, there may be instances where negative growth could be identified:\n",
        "\n",
        "1. Poor App Performance: Negative reviews highlighting consistent issues with app performance, stability, or usability could lead to a decline in user engagement and uninstallations. Addressing these concerns promptly is essential to prevent negative growth.\n",
        "\n",
        "2. Unfavorable Pricing: If an app is priced significantly higher compared to similar apps in the same category without providing significant added value, it may lead to negative reviews, low user adoption, and potential negative growth. Regular evaluation of pricing relative to the competition is crucial to avoid such scenarios."
      ],
      "metadata": {
        "id": "3cspy4FjqxJW"
      }
    },
    {
      "cell_type": "markdown",
      "source": [
        "#### Chart - 2"
      ],
      "metadata": {
        "id": "KSlN3yHqYklG"
      }
    },
    {
      "cell_type": "markdown",
      "source": [
        "## **Top category on PlayStore**"
      ],
      "metadata": {
        "id": "dE88Qtg69385"
      }
    },
    {
      "cell_type": "code",
      "source": [
        "# Chart - 2 visualization code\n",
        "x = Playstore['Category'].value_counts()\n",
        "y = Playstore['Category'].value_counts().index\n",
        "x_list = []\n",
        "y_list = []\n",
        "for i in range(len(x)):\n",
        "    x_list.append(x[i])\n",
        "    y_list.append(y[i])"
      ],
      "metadata": {
        "id": "R4YgtaqtYklH"
      },
      "execution_count": null,
      "outputs": []
    },
    {
      "cell_type": "code",
      "source": [
        "plt.figure(figsize=(20,10))\n",
        "plt.xlabel('Number of Apps', size=15)\n",
        "plt.ylabel('App Categories', size=15)\n",
        "graph = sns.barplot(y = x_list, x = y_list, palette= \"tab10\")\n",
        "graph.set_title(\"Top categories on Playstore\", fontsize = 25)\n",
        "graph.set_xticklabels(graph.get_xticklabels(), rotation= 45, horizontalalignment='right',);"
      ],
      "metadata": {
        "id": "Uhq6uNUv-AnO"
      },
      "execution_count": null,
      "outputs": []
    },
    {
      "cell_type": "markdown",
      "source": [
        "##### 1. Why did you pick the specific chart?"
      ],
      "metadata": {
        "id": "t6dVpIINYklI"
      }
    },
    {
      "cell_type": "markdown",
      "source": [
        "A bar plot or bar chart is a graph that represents the category of data with rectangular bars with lengths and heights that is proportional to the values which they represent. The bar plots can be plotted horizontally or vertically. A bar chart describes the comparisons between the discrete categories. One of the axis of the plot represents the specific categories being compared, while the other axis represents the measured values corresponding to those categories."
      ],
      "metadata": {
        "id": "5aaW0BYyYklI"
      }
    },
    {
      "cell_type": "markdown",
      "source": [
        "##### 2. What is/are the insight(s) found from the chart?"
      ],
      "metadata": {
        "id": "ijmpgYnKYklI"
      }
    },
    {
      "cell_type": "markdown",
      "source": [
        "So there are all total 33 categories in the dataset From the above output we can come to a conclusion that in playstore most of the apps are under\n",
        "FAMILY & GAME category and least are of EVENTS & BEAUTY Category."
      ],
      "metadata": {
        "id": "PSx9atu2YklI"
      }
    },
    {
      "cell_type": "markdown",
      "source": [
        "##### 3. Will the gained insights help creating a positive business impact? \n",
        "Are there any insights that lead to negative growth? Justify with specific reason."
      ],
      "metadata": {
        "id": "-JiQyfWJYklI"
      }
    },
    {
      "cell_type": "markdown",
      "source": [
        "The insights help us to know the number of app present in playstore and the category they are under. If a company have to launch there own app they can find where they will get maximum profit from."
      ],
      "metadata": {
        "id": "BcBbebzrYklV"
      }
    },
    {
      "cell_type": "markdown",
      "source": [
        "#### Chart - 3"
      ],
      "metadata": {
        "id": "EM7whBJCYoAo"
      }
    },
    {
      "cell_type": "markdown",
      "source": [
        "## **Graph to view what portion of the apps in the play store are paid and free.**"
      ],
      "metadata": {
        "id": "DIc277a__SyY"
      }
    },
    {
      "cell_type": "code",
      "source": [
        "# Chart - 3 visualization code\n",
        "app_count = Playstore.groupby(['Category','Type'])[['App']].count().reset_index().rename(columns={'App':'Count','index':'App'})\n",
        "df_app_count = app_count.pivot('Category', 'Type', 'Count').fillna(0).reset_index()\n",
        "df_app_count.set_index('Category').plot(kind='bar', stacked=True, figsize=(18,9))\n",
        "plt.xlabel(\"Category\", fontsize=15)\n",
        "plt.ylabel(\"Count\", fontsize=15)\n",
        "plt.title(\"Count of applications in each category differentiated by their type\")\n",
        "plt.show()"
      ],
      "metadata": {
        "id": "t6GMdE67YoAp"
      },
      "execution_count": null,
      "outputs": []
    },
    {
      "cell_type": "markdown",
      "source": [
        "##### 1. Why did you pick the specific chart?"
      ],
      "metadata": {
        "id": "fge-S5ZAYoAp"
      }
    },
    {
      "cell_type": "markdown",
      "source": [
        "This bargraph help us to easily analyse type on installation in same category."
      ],
      "metadata": {
        "id": "5dBItgRVYoAp"
      }
    },
    {
      "cell_type": "markdown",
      "source": [
        "##### 2. What is/are the insight(s) found from the chart?"
      ],
      "metadata": {
        "id": "85gYPyotYoAp"
      }
    },
    {
      "cell_type": "markdown",
      "source": [
        "It looks like certain app categories have more free apps available for download than others. In our dataset, the majority of apps in Family, Food & Drink and Tools, as well as Social categories were free to install. At the same time Family, Sports, Tools and Medical categories had the biggest number of paid apps available for download."
      ],
      "metadata": {
        "id": "4jstXR6OYoAp"
      }
    },
    {
      "cell_type": "markdown",
      "source": [
        "##### 3. Will the gained insights help creating a positive business impact? \n",
        "Are there any insights that lead to negative growth? Justify with specific reason."
      ],
      "metadata": {
        "id": "RoGjAbkUYoAp"
      }
    },
    {
      "cell_type": "markdown",
      "source": [
        "Yes,it helps to know that our product should be use my maximum people at a resonable cost."
      ],
      "metadata": {
        "id": "zfJ8IqMcYoAp"
      }
    },
    {
      "cell_type": "markdown",
      "source": [
        "#### Chart - 4"
      ],
      "metadata": {
        "id": "4Of9eVA-YrdM"
      }
    },
    {
      "cell_type": "markdown",
      "source": [
        "Content rating"
      ],
      "metadata": {
        "id": "0sFUhEg2Auqi"
      }
    },
    {
      "cell_type": "code",
      "source": [
        "# Chart - 4 visualization code\n",
        "x2 = Playstore['Content Rating'].value_counts().index\n",
        "y2 = Playstore['Content Rating'].value_counts()\n",
        "\n",
        "x2sis = []\n",
        "y2sis = []\n",
        "for i in range(len(x2)):\n",
        "    x2sis.append(x2[i])\n",
        "    y2sis.append(y2[i])"
      ],
      "metadata": {
        "id": "irlUoxc8YrdO"
      },
      "execution_count": null,
      "outputs": []
    },
    {
      "cell_type": "code",
      "source": [
        "plt.figure(figsize=(12,10))\n",
        "plt.bar(x2sis,y2sis,width=0.8,color=['#15244C','#FFFF48','#292734','#EF2920','#CD202D','#ECC5F2'], alpha=0.8);\n",
        "plt.title('Content Rating',size = 20);\n",
        "plt.ylabel('Apps(Count)');\n",
        "plt.xlabel('Content Rating');"
      ],
      "metadata": {
        "id": "fHtTrhGqA1c8"
      },
      "execution_count": null,
      "outputs": []
    },
    {
      "cell_type": "markdown",
      "source": [
        "##### 1. Why did you pick the specific chart?"
      ],
      "metadata": {
        "id": "iky9q4vBYrdO"
      }
    },
    {
      "cell_type": "markdown",
      "source": [
        "This chart help us to easily find the Rating of the apps by the user by analysing there number and age group."
      ],
      "metadata": {
        "id": "aJRCwT6DYrdO"
      }
    },
    {
      "cell_type": "markdown",
      "source": [
        "##### 2. What is/are the insight(s) found from the chart?"
      ],
      "metadata": {
        "id": "F6T5p64dYrdO"
      }
    },
    {
      "cell_type": "markdown",
      "source": [
        "From the above plot, we can see that the Everyone category has the highest number of apps rating."
      ],
      "metadata": {
        "id": "Xx8WAJvtYrdO"
      }
    },
    {
      "cell_type": "markdown",
      "source": [
        "##### 3. Will the gained insights help creating a positive business impact? \n",
        "Are there any insights that lead to negative growth? Justify with specific reason."
      ],
      "metadata": {
        "id": "y-Ehk30pYrdP"
      }
    },
    {
      "cell_type": "markdown",
      "source": [
        "Yes, with this they can improve there product and make more user friendly product."
      ],
      "metadata": {
        "id": "jLNxxz7MYrdP"
      }
    },
    {
      "cell_type": "markdown",
      "source": [
        "#### Chart - 5"
      ],
      "metadata": {
        "id": "bamQiAODYuh1"
      }
    },
    {
      "cell_type": "markdown",
      "source": [
        "## Distribution of size"
      ],
      "metadata": {
        "id": "HpDxuuD2CzZk"
      }
    },
    {
      "cell_type": "code",
      "source": [
        "# to remove null values from size column\n",
        "Playstore.loc[Playstore['Size'].isnull(),'Size']=0\n",
        "plt.xlabel(\"Size\")\n",
        "plt.title(\"Distribution of Size\")\n",
        "plt.hist(Playstore['Size']);\n",
        "plt.show()\n"
      ],
      "metadata": {
        "id": "TIJwrbroYuh3"
      },
      "execution_count": null,
      "outputs": []
    },
    {
      "cell_type": "markdown",
      "source": [
        "##### 1. Why did you pick the specific chart?"
      ],
      "metadata": {
        "id": "QHF8YVU7Yuh3"
      }
    },
    {
      "cell_type": "markdown",
      "source": [
        "It is often used to illustrate the major features of the distribution of the data in a convenient form. It is also useful when dealing with large data sets (greater than 100 observations). It can help detect any unusual observations (outliers) or any gaps in the data.02-Sept-2021"
      ],
      "metadata": {
        "id": "dcxuIMRPYuh3"
      }
    },
    {
      "cell_type": "markdown",
      "source": [
        "##### 2. What is/are the insight(s) found from the chart?"
      ],
      "metadata": {
        "id": "GwzvFGzlYuh3"
      }
    },
    {
      "cell_type": "markdown",
      "source": [
        "From the above histogram, it can be concluded that maximum number of applications present in the dataset are of small size."
      ],
      "metadata": {
        "id": "uyqkiB8YYuh3"
      }
    },
    {
      "cell_type": "markdown",
      "source": [
        "##### 3. Will the gained insights help creating a positive business impact? \n",
        "Are there any insights that lead to negative growth? Justify with specific reason."
      ],
      "metadata": {
        "id": "qYpmQ266Yuh3"
      }
    },
    {
      "cell_type": "markdown",
      "source": [
        "Helps the business to make app according to there size which can be run easily."
      ],
      "metadata": {
        "id": "_WtzZ_hCYuh4"
      }
    },
    {
      "cell_type": "markdown",
      "source": [
        "#### Chart - 6"
      ],
      "metadata": {
        "id": "OH-pJp9IphqM"
      }
    },
    {
      "cell_type": "markdown",
      "source": [
        "## **Count of app with there size**"
      ],
      "metadata": {
        "id": "Jr4Vkew8EQ4m"
      }
    },
    {
      "cell_type": "code",
      "source": [
        "# Chart - 6 Installs app with size\n",
        "Playstore['Installs'].dtype"
      ],
      "metadata": {
        "id": "kuRf4wtuphqN"
      },
      "execution_count": null,
      "outputs": []
    },
    {
      "cell_type": "markdown",
      "source": [
        "Since the datatype here is object so we need to convert it to integer for further plotting"
      ],
      "metadata": {
        "id": "6-LGOhcMExES"
      }
    },
    {
      "cell_type": "code",
      "source": [
        "Playstore['Installs'].head()"
      ],
      "metadata": {
        "id": "M_xeQFAuEkTg"
      },
      "execution_count": null,
      "outputs": []
    },
    {
      "cell_type": "code",
      "source": [
        "plt.figure(figsize=(10,8))\n",
        "f = sns.countplot(x=Playstore['Installs'], palette= \"viridis\" )\n",
        "f.set_xticklabels(f.get_xticklabels(), rotation = 40)\n",
        "plt.show()"
      ],
      "metadata": {
        "id": "yUO3FM_pEziw"
      },
      "execution_count": null,
      "outputs": []
    },
    {
      "cell_type": "markdown",
      "source": [
        "##### 1. Why did you pick the specific chart?"
      ],
      "metadata": {
        "id": "bbFf2-_FphqN"
      }
    },
    {
      "cell_type": "markdown",
      "source": [
        "Bar charts enable us to compare numerical values like integers and percentages. They use the length of each bar to represent the value of each variable. For example, bar charts show the number of app installs with there sizes"
      ],
      "metadata": {
        "id": "loh7H2nzphqN"
      }
    },
    {
      "cell_type": "markdown",
      "source": [
        "##### 2. What is/are the insight(s) found from the chart?"
      ],
      "metadata": {
        "id": "_ouA3fa0phqN"
      }
    },
    {
      "cell_type": "markdown",
      "source": [
        "Number of apps install with respect to there sizes, We can observe that most of the apps beongs to the 1M+ category\n"
      ],
      "metadata": {
        "id": "VECbqPI7phqN"
      }
    },
    {
      "cell_type": "markdown",
      "source": [
        "##### 3. Will the gained insights help creating a positive business impact? \n",
        "Are there any insights that lead to negative growth? Justify with specific reason."
      ],
      "metadata": {
        "id": "Seke61FWphqN"
      }
    },
    {
      "cell_type": "markdown",
      "source": [
        "Its helps us to know which limit app are installed more in accordance to there size so the company and maximize or minimize the product size of there app to gain more profit."
      ],
      "metadata": {
        "id": "DW4_bGpfphqN"
      }
    },
    {
      "cell_type": "markdown",
      "source": [
        "#### Chart - 7"
      ],
      "metadata": {
        "id": "PIIx-8_IphqN"
      }
    },
    {
      "cell_type": "markdown",
      "source": [
        "## **RATING DISTRIBUTION**"
      ],
      "metadata": {
        "id": "_viSY3I2FmZK"
      }
    },
    {
      "cell_type": "code",
      "source": [
        "# Chart - 7 visualization code\n",
        "plt.figure(figsize=(15,9))\n",
        "plt.xlabel(\"Rating\")\n",
        "plt.ylabel(\"Frequency\")\n",
        "graph = sns.kdeplot(Playstore.Rating, color=\"Blue\", shade = True)\n",
        "plt.title('Distribution of Rating',size = 20);"
      ],
      "metadata": {
        "id": "lqAIGUfyphqO"
      },
      "execution_count": null,
      "outputs": []
    },
    {
      "cell_type": "markdown",
      "source": [
        "##### 1. Why did you pick the specific chart?"
      ],
      "metadata": {
        "id": "t27r6nlMphqO"
      }
    },
    {
      "cell_type": "markdown",
      "source": [
        "In kdeplot we can plot for the univariate or multiple variables altogether i.e we can depicts the probability density function of the continuous or non-parametric data variables"
      ],
      "metadata": {
        "id": "iv6ro40sphqO"
      }
    },
    {
      "cell_type": "markdown",
      "source": [
        "##### 2. What is/are the insight(s) found from the chart?"
      ],
      "metadata": {
        "id": "r2jJGEOYphqO"
      }
    },
    {
      "cell_type": "markdown",
      "source": [
        "From the above graph, we can come to the conclusion that most of the apps in the google play store are rated between 3.5 to 4.8."
      ],
      "metadata": {
        "id": "Po6ZPi4hphqO"
      }
    },
    {
      "cell_type": "markdown",
      "source": [
        "##### 3. Will the gained insights help creating a positive business impact? \n",
        "Are there any insights that lead to negative growth? Justify with specific reason."
      ],
      "metadata": {
        "id": "b0JNsNcRphqO"
      }
    },
    {
      "cell_type": "markdown",
      "source": [
        "Yes."
      ],
      "metadata": {
        "id": "xvSq8iUTphqO"
      }
    },
    {
      "cell_type": "markdown",
      "source": [
        "#### Chart - 8"
      ],
      "metadata": {
        "id": "BZR9WyysphqO"
      }
    },
    {
      "cell_type": "markdown",
      "source": [
        "### Distribution of apps across various categories"
      ],
      "metadata": {
        "id": "VQgjAT7H7OaG"
      }
    },
    {
      "cell_type": "code",
      "source": [
        "# Chart - 8 visualization code\n",
        "#Basic pie chart to view distribution of apps across various categories\n",
        "fig, ax = plt.subplots(figsize=(20, 20), subplot_kw=dict(aspect=\"equal\"))\n",
        "number_of_apps = Playstore[\"Category\"].value_counts()\n",
        "labels = number_of_apps.index\n",
        "sizes = number_of_apps.values\n",
        "ax.pie(sizes,labeldistance=2,autopct='%1.1f%%')\n",
        "ax.legend(labels=labels,loc=\"right\",bbox_to_anchor=(0.9, 0, 0.5, 1))\n",
        "ax.axis(\"equal\")\n",
        "plt.show()"
      ],
      "metadata": {
        "id": "TdPTWpAVphqO"
      },
      "execution_count": null,
      "outputs": []
    },
    {
      "cell_type": "markdown",
      "source": [
        "##### 1. Why did you pick the specific chart?"
      ],
      "metadata": {
        "id": "jj7wYXLtphqO"
      }
    },
    {
      "cell_type": "markdown",
      "source": [
        "A Pie Chart can only display one series of data. Pie charts show the size of items (called wedge) in one data series, proportional to the sum of the items. The data points in a pie chart are shown as a percentage of the whole pie."
      ],
      "metadata": {
        "id": "Ob8u6rCTphqO"
      }
    },
    {
      "cell_type": "markdown",
      "source": [
        "##### 2. What is/are the insight(s) found from the chart?"
      ],
      "metadata": {
        "id": "eZrbJ2SmphqO"
      }
    },
    {
      "cell_type": "markdown",
      "source": [
        "So there are all total 33 categories in the dataset From the above output we can come to a conclusion that in playstore most of the apps are under FAMILY & GAME category and least are of EVENTS & BEAUTY Category."
      ],
      "metadata": {
        "id": "mZtgC_hjphqO"
      }
    },
    {
      "cell_type": "markdown",
      "source": [
        "#### Chart - 9"
      ],
      "metadata": {
        "id": "YJ55k-q6phqO"
      }
    },
    {
      "cell_type": "markdown",
      "source": [
        "## a)Free App content Rating"
      ],
      "metadata": {
        "id": "S6v7XvlS8M-D"
      }
    },
    {
      "cell_type": "code",
      "source": [
        "Playstore['Content Rating'].value_counts().plot.bar(figsize=(10,10),color='blue')\n",
        "plt.legend()"
      ],
      "metadata": {
        "id": "B2aS4O1ophqO"
      },
      "execution_count": null,
      "outputs": []
    },
    {
      "cell_type": "markdown",
      "source": [
        "## b) Paid App Content Rating"
      ],
      "metadata": {
        "id": "TuxG432bAd4e"
      }
    },
    {
      "cell_type": "code",
      "source": [
        "Playstore['Content Rating'].value_counts().plot.bar(figsize=(10,10),color='c')\n",
        "plt.legend()"
      ],
      "metadata": {
        "id": "KMZ1nBGUAja_"
      },
      "execution_count": null,
      "outputs": []
    },
    {
      "cell_type": "markdown",
      "source": [
        "##### 1. Why did you pick the specific chart?"
      ],
      "metadata": {
        "id": "gCFgpxoyphqP"
      }
    },
    {
      "cell_type": "markdown",
      "source": [
        "A bar plot or bar chart is a graph that represents the category of data with rectangular bars with lengths and heights that is proportional to the values which they represent. The bar plots can be plotted horizontally or vertically. A bar chart describes the comparisons between the discrete categories"
      ],
      "metadata": {
        "id": "TVxDimi2phqP"
      }
    },
    {
      "cell_type": "markdown",
      "source": [
        "##### 2. What is/are the insight(s) found from the chart?"
      ],
      "metadata": {
        "id": "OVtJsKN_phqQ"
      }
    },
    {
      "cell_type": "markdown",
      "source": [
        "Most Number of content ratings which got on Google Play Store can be used by everyone.The remaining apps have various age restrictions to use it."
      ],
      "metadata": {
        "id": "ngGi97qjphqQ"
      }
    },
    {
      "cell_type": "markdown",
      "source": [
        "##### 3. Will the gained insights help creating a positive business impact? \n",
        "Are there any insights that lead to negative growth? Justify with specific reason."
      ],
      "metadata": {
        "id": "lssrdh5qphqQ"
      }
    },
    {
      "cell_type": "markdown",
      "source": [
        "Yes, If it is free of used there is no restriction or not paid one then everyone choose free application over paid one.\n",
        "\n",
        "Negative Impact\n",
        "\n",
        "1. Poor App Performance: Negative reviews highlighting consistent issues with app performance, stability, or usability could lead to a decline in user engagement and uninstallations. Addressing these concerns promptly is essential to prevent negative growth.\n",
        "\n",
        "2. Unfavorable Pricing: If an app is priced significantly higher compared to similar apps in the same category without providing significant added value, it may lead to negative reviews, low user adoption, and potential negative growth. Regular evaluation of pricing relative to the competition is crucial to avoid such scenarios."
      ],
      "metadata": {
        "id": "tBpY5ekJphqQ"
      }
    },
    {
      "cell_type": "markdown",
      "source": [
        "#### Chart - 10"
      ],
      "metadata": {
        "id": "U2RJ9gkRphqQ"
      }
    },
    {
      "cell_type": "markdown",
      "source": [
        "### What is the ratio of number of Paid apps and Free apps?"
      ],
      "metadata": {
        "id": "QVOmlX5v9KM_"
      }
    },
    {
      "cell_type": "code",
      "source": [
        "data = Playstore['Type'].value_counts() \n",
        "labels = ['Free', 'Paid']\n",
        "\n",
        "# create pie chart\n",
        "plt.figure(figsize=(10,10))\n",
        "colors = ['#ff9999','#66b3ff']\n",
        "explode=(0.01,0.1)\n",
        "plt.pie(data, labels = labels, colors = colors, autopct='%.2f%%',explode=explode,textprops={'fontsize': 15})\n",
        "plt.title('Distribution of Paid and Free apps',size=15,loc='center')\n",
        "plt.legend()"
      ],
      "metadata": {
        "id": "GM7a4YP4phqQ"
      },
      "execution_count": null,
      "outputs": []
    },
    {
      "cell_type": "markdown",
      "source": [
        "##### 1. Why did you pick the specific chart?"
      ],
      "metadata": {
        "id": "1M8mcRywphqQ"
      }
    },
    {
      "cell_type": "markdown",
      "source": [
        "A Pie Chart is a circular statistical plot that can display only one series of data. The area of the chart is the total percentage of the given data. The area of slices of the pie represents the percentage of the parts of the data. "
      ],
      "metadata": {
        "id": "8agQvks0phqQ"
      }
    },
    {
      "cell_type": "markdown",
      "source": [
        "##### 2. What is/are the insight(s) found from the chart?"
      ],
      "metadata": {
        "id": "tgIPom80phqQ"
      }
    },
    {
      "cell_type": "markdown",
      "source": [
        "From the above graph we can see that 92% of apps in google play store are free and 8%are paid. , so we can say that Most of the apps are free on Google Play Store."
      ],
      "metadata": {
        "id": "Qp13pnNzphqQ"
      }
    },
    {
      "cell_type": "markdown",
      "source": [
        "#### Chart - 11"
      ],
      "metadata": {
        "id": "x-EpHcCOp1ci"
      }
    },
    {
      "cell_type": "markdown",
      "source": [
        "## Which category of Apps from the Content Rating column are found more on playstore ?"
      ],
      "metadata": {
        "id": "F1r8pVZt9mJQ"
      }
    },
    {
      "cell_type": "code",
      "source": [
        "Playstore['Content Rating'].unique()"
      ],
      "metadata": {
        "id": "mAQTIvtqp1cj"
      },
      "execution_count": null,
      "outputs": []
    },
    {
      "cell_type": "code",
      "source": [
        "# Content rating of the apps\n",
        "data = Playstore['Content Rating'].value_counts()\n",
        "labels = ['Everyone', 'Teen', 'Everyone 10+', 'Mature 17+','Adults only 18+', 'Unrated']\n",
        "\n",
        "#create pie chart\n",
        "plt.figure(figsize=(10,10))\n",
        "explode=(0,0.1,0.1,0.1,0.0,1.3)\n",
        "colors = [\"hotpink\", 'b', 'm', 'g', 'c', 'r']\n",
        "plt.pie(data, labels = labels, colors = colors, autopct='%.2f%%',explode=explode,textprops={'fontsize': 15})\n",
        "plt.title('Content Rating',size=20,loc='center')\n",
        "plt.legend()"
      ],
      "metadata": {
        "id": "83I1D5iC9tJG"
      },
      "execution_count": null,
      "outputs": []
    },
    {
      "cell_type": "markdown",
      "source": [
        "##### 1. Why did you pick the specific chart?"
      ],
      "metadata": {
        "id": "X_VqEhTip1ck"
      }
    },
    {
      "cell_type": "markdown",
      "source": [
        "A Pie Chart is a circular statistical plot that can display only one series of data. The area of the chart is the total percentage of the given data. The area of slices of the pie represents the percentage of the parts of the data. "
      ],
      "metadata": {
        "id": "-vsMzt_np1ck"
      }
    },
    {
      "cell_type": "markdown",
      "source": [
        "##### 2. What is/are the insight(s) found from the chart?"
      ],
      "metadata": {
        "id": "8zGJKyg5p1ck"
      }
    },
    {
      "cell_type": "markdown",
      "source": [
        "A majority of the apps (82%) in the play store are can be used by everyone.The remaining apps have various age restrictions to use it."
      ],
      "metadata": {
        "id": "ZYdMsrqVp1ck"
      }
    },
    {
      "cell_type": "markdown",
      "source": [
        "### **Data Visualization on User Reviews:**"
      ],
      "metadata": {
        "id": "4XCn8hJE-R2v"
      }
    },
    {
      "cell_type": "markdown",
      "source": [
        "#### Chart - 12"
      ],
      "metadata": {
        "id": "n3dbpmDWp1ck"
      }
    },
    {
      "cell_type": "markdown",
      "source": [
        "### Percentage of Review Sentiments"
      ],
      "metadata": {
        "id": "9dAsPfN5-Jus"
      }
    },
    {
      "cell_type": "code",
      "source": [
        "user.columns"
      ],
      "metadata": {
        "id": "bwevp1tKp1ck"
      },
      "execution_count": null,
      "outputs": []
    },
    {
      "cell_type": "code",
      "source": [
        "import matplotlib\n",
        "counts = list(user['Sentiment'].value_counts())\n",
        "labels = 'Positive Reviews', 'Negative Reviews','Neutral Reviews'\n",
        "matplotlib.rcParams['font.size'] = 20\n",
        "matplotlib.rcParams['figure.figsize'] = (10, 15)\n",
        "plt.pie(counts, labels=labels, explode=[0.05, 0.01, 0.05], shadow=True, autopct=\"%.2f%%\")\n",
        "plt.title('Percentage of Review Sentiments', fontsize=20)\n",
        "plt.axis('off')\n",
        "plt.legend(title = \"types of review:\",bbox_to_anchor=(0.9, 0, 0.5, 1))\n",
        "plt.show()"
      ],
      "metadata": {
        "id": "eR4E_D6f-cWz"
      },
      "execution_count": null,
      "outputs": []
    },
    {
      "cell_type": "markdown",
      "source": [
        "##### 1. Why did you pick the specific chart?"
      ],
      "metadata": {
        "id": "ylSl6qgtp1ck"
      }
    },
    {
      "cell_type": "markdown",
      "source": [
        "A Pie Chart is a circular statistical plot that can display only one series of data. The area of the chart is the total percentage of the given data. The area of slices of the pie represents the percentage of the parts of the data. "
      ],
      "metadata": {
        "id": "m2xqNkiQp1ck"
      }
    },
    {
      "cell_type": "markdown",
      "source": [
        "##### 2. What is/are the insight(s) found from the chart?"
      ],
      "metadata": {
        "id": "ZWILFDl5p1ck"
      }
    },
    {
      "cell_type": "markdown",
      "source": [
        "Positive reviews are 64.11%\n",
        "Negative reviews are 22.10%\n",
        "Neutral reviews are 13.79%"
      ],
      "metadata": {
        "id": "x-lUsV2mp1ck"
      }
    },
    {
      "cell_type": "markdown",
      "source": [
        "From the above pie chart, we can say that most of the apps that are present on the play store has received positive review by the user while there are some apps which have negative reviews as well."
      ],
      "metadata": {
        "id": "5wwDJXsLp1cl"
      }
    },
    {
      "cell_type": "markdown",
      "source": [
        "#### Chart - 13"
      ],
      "metadata": {
        "id": "Ag9LCva-p1cl"
      }
    },
    {
      "cell_type": "markdown",
      "source": [
        "## Apps with the highest number of positive reviews"
      ],
      "metadata": {
        "id": "unykgn6q-riu"
      }
    },
    {
      "cell_type": "code",
      "source": [
        "# positive reviews\n",
        "positive_user=user[user['Sentiment']=='Positive']\n",
        "positive_user"
      ],
      "metadata": {
        "id": "EUfxeq9-p1cl"
      },
      "execution_count": null,
      "outputs": []
    },
    {
      "cell_type": "code",
      "source": [
        "positive_user.groupby('App')['Sentiment'].value_counts().nlargest(10).plot.barh(figsize=(10,8),color='seagreen').invert_yaxis()\n",
        "plt.title(\"Top 10 positive review apps\")\n",
        "plt.xlabel('Total number of positive reviews')\n",
        "plt.legend()"
      ],
      "metadata": {
        "id": "pXKai23D-v4M"
      },
      "execution_count": null,
      "outputs": []
    },
    {
      "cell_type": "markdown",
      "source": [
        "##### 1. Why did you pick the specific chart?"
      ],
      "metadata": {
        "id": "E6MkPsBcp1cl"
      }
    },
    {
      "cell_type": "markdown",
      "source": [
        "A bar plot or bar chart is a graph that represents the category of data with rectangular bars with lengths and heights that is proportional to the values which they represent. The bar plots can be plotted horizontally or vertically. A bar chart describes the comparisons between the discrete categories."
      ],
      "metadata": {
        "id": "V22bRsFWp1cl"
      }
    },
    {
      "cell_type": "markdown",
      "source": [
        "##### 2. What is/are the insight(s) found from the chart?"
      ],
      "metadata": {
        "id": "2cELzS2fp1cl"
      }
    },
    {
      "cell_type": "markdown",
      "source": [
        "Positive reviews can quickly show you what users like and which features they, especially, value. Negative reviews, however, can show you if you have current technical issues, if some features don't work, why the user experience is not good, etc."
      ],
      "metadata": {
        "id": "ozQPc2_Ip1cl"
      }
    },
    {
      "cell_type": "markdown",
      "source": [
        "### Chart - 14"
      ],
      "metadata": {
        "id": "zVXq-ojOinPg"
      }
    },
    {
      "cell_type": "code",
      "source": [
        "# Average app ratings\n",
        "Playstore['Rating'].value_counts().plot.bar(figsize=(20,8), color = 'm' )\n",
        "plt.xlabel('Average rating',fontsize = 15 )\n",
        "plt.ylabel('Number of apps', fontsize = 15)\n",
        "plt.title('Average rating of apps in Playstore', fontsize = 20)\n",
        "plt.legend()"
      ],
      "metadata": {
        "id": "ckjGlq9Nivlk"
      },
      "execution_count": null,
      "outputs": []
    },
    {
      "cell_type": "markdown",
      "source": [
        "**1. Why did you pick the specific chart?**"
      ],
      "metadata": {
        "id": "fKeGKYVejBBu"
      }
    },
    {
      "cell_type": "markdown",
      "source": [
        "A bar plot or bar chart is a graph that represents the category of data with rectangular bars with lengths and heights that is proportional to the values which they represent. The bar plots can be plotted horizontally or vertically. A bar chart describes the comparisons between the discrete categories."
      ],
      "metadata": {
        "id": "nsG2shOZjEMk"
      }
    },
    {
      "cell_type": "markdown",
      "source": [
        "**2. What is/are the insight(s) found from the chart?**"
      ],
      "metadata": {
        "id": "lhp4uuR3jNV9"
      }
    },
    {
      "cell_type": "markdown",
      "source": [
        "We can represent the ratings in a better way if we group the ratings between certain intervals. Here, we can group the rating as follows:\n",
        "\n",
        "1. 4-5: Top rated\n",
        "2. 3-4: Above average\n",
        "3. 2-3: Average\n",
        "4. 1-2: Below average"
      ],
      "metadata": {
        "id": "F-KQFKAojUVl"
      }
    },
    {
      "cell_type": "markdown",
      "source": [
        "3. **Will the gained insights help creating a positive business impact?**\n",
        "\n",
        "**Are there any insights that lead to negative growth? Justify with specific reason.**"
      ],
      "metadata": {
        "id": "V_pXNqESk51U"
      }
    },
    {
      "cell_type": "markdown",
      "source": [
        "1. Higher average rating: If the analysis reveals a consistently high average rating for the app, it suggests that customers are satisfied with the product. This positive feedback can help build customer loyalty, attract new users, and increase downloads, which can lead to a positive business impact.\n",
        "2. Low average rating: If the analysis reveals a consistently low average rating, it indicates customer dissatisfaction. This can negatively impact the business, leading to reduced downloads, loss of customers, and a decline in revenue."
      ],
      "metadata": {
        "id": "9TwFDly7lJxn"
      }
    },
    {
      "cell_type": "markdown",
      "source": [
        "#### Chart - 15- Correlation Heatmap"
      ],
      "metadata": {
        "id": "NC_X3p0fY2L0"
      }
    },
    {
      "cell_type": "code",
      "source": [
        "# Correlation Heatmap visualization code\n",
        "Playstore.corr()"
      ],
      "metadata": {
        "id": "xyC9zolEZNRQ"
      },
      "execution_count": null,
      "outputs": []
    },
    {
      "cell_type": "code",
      "source": [
        "# Heat map for play_store\n",
        "plt.figure(figsize = (20,10))\n",
        "sns.heatmap(Playstore.corr(), annot= True)\n",
        "plt.title('Corelation Heatmap for Playstore Data', size=20)"
      ],
      "metadata": {
        "id": "gmngiDcv_eo1"
      },
      "execution_count": null,
      "outputs": []
    },
    {
      "cell_type": "markdown",
      "source": [
        "##### 1. Why did you pick the specific chart?"
      ],
      "metadata": {
        "id": "UV0SzAkaZNRQ"
      }
    },
    {
      "cell_type": "markdown",
      "source": [
        "A correlation matrix is simply a table which displays the correlation coefficients for different variables. The matrix depicts the correlation between all the possible pairs of values in a table. It is a powerful tool to summarize a large dataset and to identify and visualize patterns in the given data.\n",
        "A correlation heatmap is a graphical representation of a correlation matrix representing the correlation between different variables. The value of correlation can take any value from -1 to 1. "
      ],
      "metadata": {
        "id": "DVPuT8LYZNRQ"
      }
    },
    {
      "cell_type": "markdown",
      "source": [
        "##### 2. What is/are the insight(s) found from the chart?"
      ],
      "metadata": {
        "id": "YPEH6qLeZNRQ"
      }
    },
    {
      "cell_type": "markdown",
      "source": [
        "There is a strong positive correlation between the Reviews and Installs column. This is pretty much obvious. Higher the number of installs, higher is the user base, and higher are the total number of reviews dropped by the users. ThePriceis slightly negatively correlated with the Rating, Reviews, and Installs. This means that as the prices of the app increases, the average rating, total number of reviews and Installs fall slightly. TheRating is slightly positively correlated with theInstalls and Reviews column. This indicates that as the the average user rating increases, the app installs and number of reviews also increase."
      ],
      "metadata": {
        "id": "bfSqtnDqZNRR"
      }
    },
    {
      "cell_type": "code",
      "source": [
        "merged_df = pd.merge(Playstore, user, on='App', how = \"inner\")"
      ],
      "metadata": {
        "id": "dZ4rzqZo_7Ft"
      },
      "execution_count": null,
      "outputs": []
    },
    {
      "cell_type": "code",
      "source": [
        "def merged_dfinfo():\n",
        "  temp = pd.DataFrame(index=merged_df.columns)\n",
        "  temp['data_type'] = merged_df.dtypes\n",
        "  temp[\"count of non null values\"] = merged_df.count()\n",
        "  temp['NaN values'] = merged_df.isnull().sum()\n",
        "  temp['% NaN values'] =merged_df.isnull().mean()\n",
        "  temp['unique_count'] = merged_df.nunique() \n",
        "  return temp\n",
        "merged_dfinfo()"
      ],
      "metadata": {
        "id": "ix78-dA8_-oK"
      },
      "execution_count": null,
      "outputs": []
    },
    {
      "cell_type": "code",
      "source": [
        "merged_df.corr()"
      ],
      "metadata": {
        "id": "xPYidjmQABDC"
      },
      "execution_count": null,
      "outputs": []
    },
    {
      "cell_type": "code",
      "source": [
        "# Correlation heatmap\n",
        "# Heat Map for the merged data frame\n",
        "plt.figure(figsize = (15,10))\n",
        "sns.heatmap(merged_df.corr(), annot= True, cmap='Greens')\n",
        "plt.title(' Heatmap for merged Dataframe', size=20)"
      ],
      "metadata": {
        "id": "so7nWFivAFAC"
      },
      "execution_count": null,
      "outputs": []
    },
    {
      "cell_type": "code",
      "source": [
        "merged_df = merged_df.dropna(subset=['Sentiment', 'Translated_Review'])"
      ],
      "metadata": {
        "id": "YscPOowZAGPc"
      },
      "execution_count": null,
      "outputs": []
    },
    {
      "cell_type": "code",
      "source": [
        "merged_df.head()"
      ],
      "metadata": {
        "id": "WP1BqUm3AHVd"
      },
      "execution_count": null,
      "outputs": []
    },
    {
      "cell_type": "markdown",
      "source": [
        "•\t8783 Apps are having size less than 50 MB. 7749 Apps are having rating more than 4.0 including both type of apps.\n",
        "•\tCategory with the highest average app installs: Game\n",
        "•\tPercentage of apps that are top rated = ~80%\n",
        "•\tThere are 20 free apps that have been installed over a billion time\n",
        "•\tThere are 20 free apps that have been installed over a billion time\n",
        "•\tMinecraft is the only app in the paid category with over 10M installs. This app has also produced the most revenue only from the installation fee. \n",
        "•\tCategory in which the paid apps have the highest average installation fee: Finance\n",
        "•\tThe median size of all apps in the play store is 12 MB.\n",
        "•\tThe apps whose size varies with device has the highest number average app installs.\n",
        "•\tThe apps whose size is greater than 90 MB has the highest number of average user reviews, ie, they are more popular than the rest. \n",
        "•\tHelix Jump has the highest number of positive reviews and Angry Birds Classic has the highest number of negative reviews.\n",
        "•\tOverall sentiment count of merged dataset in which Positive sentiment count is 64%, Negative 22% and Neutral 13%.\n",
        "•\tSentiment Polarity is not highly correlated with Sentiment Subjectivity.\n",
        "\n"
      ],
      "metadata": {
        "id": "V0UuvpwBXG4n"
      }
    },
    {
      "cell_type": "markdown",
      "source": [
        "#### Chart - 16 - Pair Plot "
      ],
      "metadata": {
        "id": "q29F0dvdveiT"
      }
    },
    {
      "cell_type": "code",
      "source": [
        "# Pair Plot visualization code\n",
        "Rating = Playstore['Rating']\n",
        "Size = Playstore['Size']\n",
        "Installs = Playstore['Installs']\n",
        "Reviews = Playstore['Reviews']\n",
        "Type = Playstore['Type']\n",
        "Price = Playstore['Price']"
      ],
      "metadata": {
        "id": "o58-TEIhveiU"
      },
      "execution_count": null,
      "outputs": []
    },
    {
      "cell_type": "code",
      "source": [
        "p = sns.pairplot(pd.DataFrame(list(zip(Rating, Size, np.log10(Installs),np.log10( Reviews), Price, Type)), \n",
        "                        columns=['Rating','Size', 'Installs', 'Reviews', 'Price','Type']), hue='Type')\n",
        "p.fig.suptitle(\"Pairwise Plot - Rating, Size, Installs, Reviews, Price\",x=0.5, y=1.0, fontsize=16)"
      ],
      "metadata": {
        "id": "J_JMe1svBPuU"
      },
      "execution_count": null,
      "outputs": []
    },
    {
      "cell_type": "markdown",
      "source": [
        "##### 1. Why did you pick the specific chart?"
      ],
      "metadata": {
        "id": "EXh0U9oCveiU"
      }
    },
    {
      "cell_type": "markdown",
      "source": [
        "Pair plot is used to understand the best set of features to explain a relationship between two variables or to form the most separated clusters. It also helps to form some simple classification models by drawing some simple lines or make linear separation in our data-set.\n",
        "\n",
        "Plot a pairwise plot between all the quantitative variables to look for any evident patterns or relationships between the features"
      ],
      "metadata": {
        "id": "eMmPjTByveiU"
      }
    },
    {
      "cell_type": "markdown",
      "source": [
        "##### 2. What is/are the insight(s) found from the chart?"
      ],
      "metadata": {
        "id": "22aHeOlLveiV"
      }
    },
    {
      "cell_type": "markdown",
      "source": [
        "1. Most of the App are Free.\n",
        "2. Most of the Paid Apps have Rating around 4\n",
        "3. As the number of installation increases the number of reviews of the particaular app also increases.\n",
        "4. Most of the Apps are light-weighted.1."
      ],
      "metadata": {
        "id": "uPQ8RGwHveiV"
      }
    },
    {
      "cell_type": "markdown",
      "source": [
        "## **5. Solution to Business Objective**"
      ],
      "metadata": {
        "id": "JcMwzZxoAimU"
      }
    },
    {
      "cell_type": "markdown",
      "source": [
        "#### What do you suggest the client to achieve Business Objective ? \n",
        "Explain Briefly."
      ],
      "metadata": {
        "id": "8G2x9gOozGDZ"
      }
    },
    {
      "cell_type": "markdown",
      "source": [
        "In this project of analyzing play store applications, we have worked on several parameters which would help AlmaBetter to do well in launching their apps on the play store.\n",
        "\n",
        "In the initial phase, we focused more on the problem statements and data cleaning, in order to ensure that we give them the best results out of our analysis.\n",
        "\n",
        "AlmaBetter needs to focus more on:\n",
        "\n",
        "1. Developing apps related to the least categories as they are not explored much. Like events and beauty.\n",
        "2. Most of the apps are Free, so focusing on free app is more important.\n",
        "3. Focusing more on content available for Everyone will increase the chances of getting the highest installs.\n",
        "4. They need to focus on updating their apps regularly, so that it will attract more users.\n",
        "5. They need to keep in mind that the sentiments of the user keep varying as they keep using the app, so they should focus more on users needs and features."
      ],
      "metadata": {
        "id": "pASKb0qOza21"
      }
    },
    {
      "cell_type": "markdown",
      "source": [
        "# **Conclusion**"
      ],
      "metadata": {
        "id": "gCX9965dhzqZ"
      }
    },
    {
      "cell_type": "markdown",
      "source": [
        "Through exploratory data analysis we have observed some trends and have made some assumptions that might lead to app success among the users in the play store.\n",
        "\n",
        "•\tPercentage of free apps = ~92%\n",
        "•\tPercentage of apps with no age restrictions = ~82%\n",
        "•\tMost competitive category: Family\n",
        "•\tFamily, Game and Tools are top three categories having 1906, 926 and 829 app count.\n",
        "•\tTools, Entertainment, Education, Business and Medical are top Genres.\n",
        "Our major challenge was data cleaning.\n",
        "\n",
        "\n",
        "1. 13.60% of reviews were NaN values, and even after merging both the dataframes, we could not infer much in order to fill them. Thus we had to drop them.\n",
        "2. The merged data frame of both play store and user reviews, had only 816 common apps. This is just 10% of the cleaned data, we could have given more valuable analysis, if we had atleast 70% - 80% of the data available in the merged dataframes.\n",
        "3. User Reviews had 42% of NaN values, which could have been used for developing an understanding of the category wise sentiments, which would help us to fill 13.60% NaN values of the Reviews column.\n",
        "4. There is so much more which can be explored. Like we have current version, android version available which can be explored in detail and we can come out with more analysis where we can tell how does these things effect and needs to be kept in mind while developing app for the users.\n",
        "5. We can explore the correlation between the size of the app and the version of Android on the number of installs.\n",
        "6. Machine learning can help us to deploy more insights by developing models which can help us interpret even more better. We have left this as future work as this is something where we can work on."
      ],
      "metadata": {
        "id": "Fjb1IsQkh3yE"
      }
    },
    {
      "cell_type": "markdown",
      "source": [
        "### ***Hurrah! You have successfully completed your EDA Capstone Project !!!***"
      ],
      "metadata": {
        "id": "gIfDvo9L0UH2"
      }
    }
  ]
}